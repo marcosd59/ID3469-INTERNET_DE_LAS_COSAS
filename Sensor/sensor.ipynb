{
 "cells": [
  {
   "cell_type": "code",
   "execution_count": 2,
   "metadata": {},
   "outputs": [
    {
     "name": "stdout",
     "output_type": "stream",
     "text": [
      "Requirement already satisfied: pika in c:\\users\\gabri\\anaconda3\\envs\\myenv\\lib\\site-packages (1.3.2)\n",
      "Note: you may need to restart the kernel to use updated packages.\n",
      "Requirement already satisfied: pyodbc in c:\\users\\gabri\\anaconda3\\envs\\myenv\\lib\\site-packages (5.0.1)Note: you may need to restart the kernel to use updated packages.\n",
      "\n",
      "Requirement already satisfied: db in c:\\users\\gabri\\anaconda3\\envs\\myenv\\lib\\site-packages (0.1.1)\n",
      "Requirement already satisfied: antiorm in c:\\users\\gabri\\anaconda3\\envs\\myenv\\lib\\site-packages (from db) (1.2.1)\n",
      "Note: you may need to restart the kernel to use updated packages.\n",
      "Requirement already satisfied: bd in c:\\users\\gabri\\anaconda3\\envs\\myenv\\lib\\site-packages (0.0.5)\n",
      "Note: you may need to restart the kernel to use updated packages.\n"
     ]
    }
   ],
   "source": [
    "%pip install pika\n",
    "%pip install pyodbc\n",
    "%pip install db\n",
    "%pip install bd"
   ]
  },
  {
   "cell_type": "code",
   "execution_count": 8,
   "metadata": {},
   "outputs": [
    {
     "name": "stdout",
     "output_type": "stream",
     "text": [
      "(1, 'Pasta Termica', 99)\n"
     ]
    }
   ],
   "source": [
    "import pyodbc\n",
    "direccion_servidor = 'LAPTOP-AQP40DPT\\SQLEXPRESS,1433'\n",
    "nombre_bd = 'Almacen'\n",
    "nombre_usuario = 'admin'\n",
    "password = 'admin12345678'\n",
    "try:\n",
    "    conexion = pyodbc.connect('DRIVER={ODBC Driver 17 for SQL Server};SERVER=' +\n",
    "                              direccion_servidor+';DATABASE='+nombre_bd+';UID='+nombre_usuario+';PWD=' + password)\n",
    "    # OK! conexión exitosa\n",
    "except Exception as e:\n",
    "    # Atrapar error\n",
    "    print(\"Ocurrió un error al conectar a SQL Server: \", e)\n",
    "\n",
    "try:\n",
    "    with conexion.cursor() as cursor:\n",
    "        cursor.execute(\"SELECT * FROM Almacen.Productos;\")\n",
    "\n",
    "        # Con fetchall traemos todas las filas\n",
    "        Productos = cursor.fetchall()\n",
    "\n",
    "        # Recorrer e imprimir\n",
    "        for Producto in Productos:\n",
    "            print(Producto)\n",
    "except Exception as e:\n",
    "    print(\"Ocurrió un error al consultar: \", e)\n",
    "\n",
    "#Producto[2]"
   ]
  },
  {
   "cell_type": "code",
   "execution_count": 9,
   "metadata": {},
   "outputs": [
    {
     "name": "stdout",
     "output_type": "stream",
     "text": [
      " [x] Productos en stock: 99\n",
      " [x] Productos en stock: 91\n",
      " [x] Productos en stock: 90\n",
      " [x] Productos en stock: 89\n",
      " [x] Productos en stock: 86\n",
      " [x] Productos en stock: 85\n",
      " [x] Productos en stock: 82\n",
      " [x] Productos en stock: 76\n",
      " [x] Productos en stock: 67\n",
      " [x] Productos en stock: 64\n",
      " [x] Productos en stock: 58\n",
      " [x] Productos en stock: 49\n",
      " [x] Productos en stock: 41\n",
      " [x] Productos en stock: 39\n",
      " [x] Productos en stock: 37\n",
      " [x] Productos en stock: 28\n",
      " [x] Productos en stock: 23\n",
      " [x] Productos en stock: 15\n",
      " [x] Productos en stock: 11\n",
      " [x] Productos en stock: 9\n",
      " [x] Productos en stock: 3\n",
      " [x] Productos en stock: 0\n"
     ]
    }
   ],
   "source": [
    "import pika\n",
    "import random\n",
    "import time\n",
    "connection = pika.BlockingConnection(pika.ConnectionParameters('localhost'))\n",
    "channel = connection.channel()\n",
    "channel.queue_declare(queue='producto', durable=True)\n",
    "productos_stock = Producto[2]\n",
    "productos_consumidos = []\n",
    "channel.basic_publish(exchange='', routing_key='producto', body=str(productos_stock))\n",
    "print(f\" [x] Productos en stock: {productos_stock}\")\n",
    "\n",
    "while productos_stock > 0:\n",
    "    producto = int(random.uniform(1, 10))\n",
    "    productos_stock = productos_stock - producto\n",
    "    if productos_stock < 0 :\n",
    "        productos_stock = 0\n",
    "    channel.basic_publish(exchange='', routing_key='producto', body=str(productos_stock))\n",
    "    cursor.execute(f'''UPDATE Almacen.Productos\n",
    "                   SET Productos_Stock = {productos_stock}\n",
    "                   WHERE Productos_id = 1''')\n",
    "    conexion.commit()\n",
    "    print(f\" [x] Productos en stock: {productos_stock}\")\n",
    "    time.sleep(1)\n",
    "conexion.close()\n",
    "connection.close()"
   ]
  }
 ],
 "metadata": {
  "kernelspec": {
   "display_name": "Python 3",
   "language": "python",
   "name": "python3"
  },
  "language_info": {
   "codemirror_mode": {
    "name": "ipython",
    "version": 3
   },
   "file_extension": ".py",
   "mimetype": "text/x-python",
   "name": "python",
   "nbconvert_exporter": "python",
   "pygments_lexer": "ipython3",
   "version": "3.11.5"
  }
 },
 "nbformat": 4,
 "nbformat_minor": 2
}
